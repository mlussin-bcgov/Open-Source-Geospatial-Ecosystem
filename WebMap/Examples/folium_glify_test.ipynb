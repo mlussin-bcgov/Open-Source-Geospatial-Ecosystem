{
 "cells": [
  {
   "cell_type": "code",
   "execution_count": null,
   "metadata": {},
   "outputs": [],
   "source": [
    "import folium\n",
    "import geopandas\n",
    "import feature_download\n",
    "import os\n",
    "from folium.plugins import GroupedLayerControl\n",
    "from folium_glify_layer import GlifyLayer, Popup, Tooltip\n",
    "import geojson\n",
    "import json\n",
    "import shapely\n",
    "# Load the local geojson AOI file and get bbox in Albers projection\n",
    "BASE_DIR = os.getcwd()\n",
    "lup_aoi = os.path.join(BASE_DIR, '..', 'geojson', 'aoi.geojson')\n",
    "\n",
    "# Initialize feature downloader\n",
    "wfs = feature_download.WFS_downloader()\n",
    "\n",
    "# Get bbox from AOI\n",
    "aoi = geopandas.read_file(lup_aoi)\n",
    "bbox_albers = wfs.create_bbox(aoi)\n",
    "aoi = aoi.to_crs(4326)\n",
    "\n",
    "# Define WFS getter\n",
    "def wfs_getter(layer, query=None, fields=None, bbox=None):\n",
    "    wfs_layer = wfs.get_data(layer, query=query, fields=fields, bbox=bbox)\n",
    "    if 'GEOMETRY' in wfs_layer.columns:\n",
    "        wfs_layer.set_geometry('GEOMETRY', inplace=True)\n",
    "    elif 'SHAPE' in wfs_layer.columns:\n",
    "        wfs_layer.set_geometry('SHAPE', inplace=True)\n",
    "    wfs_layer = wfs_layer.set_crs('epsg:3005').to_crs(4326)\n",
    "    return wfs_layer\n",
    "\n",
    "def return_geoj (layer, query=None, fields=None, bbox=None):\n",
    "    wfs_layer= wfs.wfs_query(layer,query=None, fields=None, bbox=None)\n",
    "    collection = geojson.FeatureCollection(features=wfs_layer)\n",
    "    \n",
    "    return collection \n",
    "    # return wfs_layer\n",
    "\n",
    "\n",
    "\n",
    "# for center starting point\n",
    "lon, lat= -128.867888, 55.781113\n",
    "# for controlled extent \n",
    "min_lon, max_lon= -127.120663, -127.120663\n",
    "min_lat, max_lat= 54.658317, 56.880993\n",
    "zoom_start = 7\n",
    "basemap='OpenStreetMap'\n",
    "\n",
    "\n",
    "#call folium map object\n",
    "m = folium.Map(\n",
    "    max_bounds=False,\n",
    "    location=[lat, lon],\n",
    "    prefer_canvas=True,\n",
    "    tiles=basemap,\n",
    "    zoom_start=zoom_start,\n",
    "    control_scale=True\n",
    ")"
   ]
  },
  {
   "cell_type": "code",
   "execution_count": null,
   "metadata": {},
   "outputs": [],
   "source": [
    "legal_g_hawk_nesting= wfs_getter('WHSE_LAND_USE_PLANNING.RMP_PLAN_LEGAL_POLY_SVW', query=\"\"\"LEGAL_FEAT_OBJECTIVE = 'Goshawk Nesting/Post-Fledging Habitat' And STRGC_LAND_RSRCE_PLAN_NAME IN ('Cranberry Sustainable Resource Management Plan', 'Nass South Sustainable Resource Management Plan')\"\"\", fields=['LEGAL_FEAT_ID','STRGC_LAND_RSRCE_PLAN_NAME', 'LEGAL_FEAT_OBJECTIVE', 'LEGALIZATION_DATE', 'ENABLING_DOCUMENT_TITLE', 'ENABLING_DOCUMENT_URL', 'RSRCE_PLAN_METADATA_LINK','GEOMETRY','OBJECTID'],bbox=bbox_albers)\n",
    "#GLIFY only takes polygon, line or point not multi polygon\n",
    "legal_g_hawk_nesting=legal_g_hawk_nesting.explode()\n",
    "\n",
    "legal_g_hawk_nesting.loc[:, 'geometry'] = legal_g_hawk_nesting['geometry'].apply(lambda geom: geom if geom is None else shapely.wkt.loads(shapely.wkt.dumps(geom, rounding_precision=5)))\n",
    "\n",
    "\n"
   ]
  },
  {
   "cell_type": "code",
   "execution_count": 3,
   "metadata": {},
   "outputs": [],
   "source": [
    "#geojson layer\n",
    "# folium.GeoJson(legal_g_hawk_nesting, \n",
    "#             name='legal_g_hawk_nesting',\n",
    "#             highlight_function=lambda x: {'fillOpacity': 0.8},\n",
    "#             popup=legal_g_hawk_nesting,\n",
    "#             zoom_on_click=True,).add_to(m)"
   ]
  },
  {
   "cell_type": "code",
   "execution_count": 4,
   "metadata": {},
   "outputs": [],
   "source": [
    "legal_j=legal_g_hawk_nesting.to_json()\n",
    "legal_j = json.loads(legal_g_hawk_nesting.to_json())"
   ]
  },
  {
   "cell_type": "code",
   "execution_count": 5,
   "metadata": {},
   "outputs": [],
   "source": [
    "init_scale_function = \"\"\"\\\n",
    "function(){\n",
    "    return function(index){\n",
    "        return { r: 0, g: 255, b: 0, a: 0.5 }; // Static green color with 50% transparency\n",
    "    };\n",
    "}\n",
    "\"\"\"\n",
    "\n",
    "color_feature_function = \"\"\"\\\n",
    "function(index, feature) {\n",
    "    return {\n",
    "      r: 0,\n",
    "      g: 255, // Full green for fill\n",
    "      b: 0,\n",
    "      a: 0.5  // 50% opacity for transparent fill\n",
    "    };\n",
    "}\n",
    "\"\"\"\n",
    "popup = Popup({\n",
    "    'fields': ['LEGAL_FEAT_ID','STRGC_LAND_RSRCE_PLAN_NAME', 'LEGAL_FEAT_OBJECTIVE', 'LEGALIZATION_DATE', 'ENABLING_DOCUMENT_TITLE', 'ENABLING_DOCUMENT_URL', 'RSRCE_PLAN_METADATA_LINK'],\n",
    "    'aliases': ['LEGAL_FEAT_ID','STRGC_LAND_RSRCE_PLAN_NAME', 'LEGAL_FEAT_OBJECTIVE', 'LEGALIZATION_DATE', 'ENABLING_DOCUMENT_TITLE', 'ENABLING_DOCUMENT_URL', 'RSRCE_PLAN_METADATA_LINK'],\n",
    "    'labels': True\n",
    "})"
   ]
  },
  {
   "cell_type": "code",
   "execution_count": 6,
   "metadata": {},
   "outputs": [],
   "source": [
    "#Glify layer does not accept multiploygons, etc.\n",
    "layer = GlifyLayer(\n",
    "    feature_collections={'shapes': legal_j},\n",
    "    glify_options={\n",
    "        'border': True,\n",
    "        'opacity': 0.5,\n",
    "        # 'color': \"{ r: 0, g: 128, b: 0, a: 1 }\",\n",
    "        \n",
    "    },\n",
    "    color_feature_function=color_feature_function,\n",
    "    init_scale_function=init_scale_function,  # Add this line\n",
    "    popup=popup, \n",
    "    \n",
    ")"
   ]
  },
  {
   "cell_type": "code",
   "execution_count": null,
   "metadata": {},
   "outputs": [],
   "source": [
    "layer.add_to(m)"
   ]
  },
  {
   "cell_type": "code",
   "execution_count": null,
   "metadata": {},
   "outputs": [],
   "source": [
    "folium.LayerControl().add_to(m)"
   ]
  },
  {
   "cell_type": "code",
   "execution_count": null,
   "metadata": {},
   "outputs": [],
   "source": [
    "m"
   ]
  }
 ],
 "metadata": {
  "kernelspec": {
   "display_name": "stac_tools",
   "language": "python",
   "name": "python3"
  },
  "language_info": {
   "codemirror_mode": {
    "name": "ipython",
    "version": 3
   },
   "file_extension": ".py",
   "mimetype": "text/x-python",
   "name": "python",
   "nbconvert_exporter": "python",
   "pygments_lexer": "ipython3",
   "version": "3.11.7"
  }
 },
 "nbformat": 4,
 "nbformat_minor": 2
}
