{
 "cells": [
  {
   "cell_type": "code",
   "execution_count": 1,
   "metadata": {},
   "outputs": [],
   "source": [
    "import feature_download\n",
    "\n",
    "wfs = feature_download.WFS_downloader()"
   ]
  },
  {
   "cell_type": "code",
   "execution_count": 3,
   "metadata": {},
   "outputs": [
    {
     "name": "stderr",
     "output_type": "stream",
     "text": [
      "INFO:root:Memory available: 5305229312\n",
      "INFO:root:returned features 419\n"
     ]
    }
   ],
   "source": [
    "current_perimeters=wfs.get_data(dataset='WHSE_LAND_AND_NATURAL_RESOURCE.PROT_CURRENT_FIRE_POLYS_SP')"
   ]
  },
  {
   "cell_type": "code",
   "execution_count": 6,
   "metadata": {},
   "outputs": [
    {
     "name": "stdout",
     "output_type": "stream",
     "text": [
      "epsg:3005\n"
     ]
    }
   ],
   "source": [
    "current_perimeters=current_perimeters.set_crs('epsg:3005')\n",
    "print(current_perimeters.crs)"
   ]
  },
  {
   "cell_type": "code",
   "execution_count": 9,
   "metadata": {},
   "outputs": [],
   "source": [
    "current_perimeters=current_perimeters.to_crs(4326)"
   ]
  },
  {
   "cell_type": "code",
   "execution_count": 13,
   "metadata": {},
   "outputs": [
    {
     "data": {
      "text/plain": [
       "['FIRE_NUMBER',\n",
       " 'FIRE_YEAR',\n",
       " 'FIRE_SIZE_HECTARES',\n",
       " 'LOAD_DATE',\n",
       " 'FIRE_STATUS',\n",
       " 'FIRE_URL']"
      ]
     },
     "execution_count": 13,
     "metadata": {},
     "output_type": "execute_result"
    }
   ],
   "source": [
    "current_perimeters[['FIRE_NUMBER','FIRE_YEAR','FIRE_SIZE_HECTARES','LOAD_DATE','FIRE_STATUS','FIRE_URL']].columns.tolist()"
   ]
  }
 ],
 "metadata": {
  "kernelspec": {
   "display_name": "web_tools",
   "language": "python",
   "name": "python3"
  },
  "language_info": {
   "codemirror_mode": {
    "name": "ipython",
    "version": 3
   },
   "file_extension": ".py",
   "mimetype": "text/x-python",
   "name": "python",
   "nbconvert_exporter": "python",
   "pygments_lexer": "ipython3",
   "version": "3.12.5"
  }
 },
 "nbformat": 4,
 "nbformat_minor": 2
}
